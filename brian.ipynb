{
 "cells": [
  {
   "cell_type": "code",
   "execution_count": 10,
   "id": "dbbd78db-ae45-410f-bbb5-858c0498b24a",
   "metadata": {},
   "outputs": [
    {
     "name": "stdout",
     "output_type": "stream",
     "text": [
      "Plain Text Is : HELLO EVERYONE\n",
      "shift pattern is : 1\n",
      "cipher Text Is : IFMMP FWFSZPOF\n"
     ]
    }
   ],
   "source": [
    "def encrypt_text(plaintext, n):\n",
    "    ans = \"\"\n",
    "    # iterate over the given text\n",
    "    for i in range(len(plaintext)):\n",
    "        ch = plaintext[i]\n",
    "\n",
    "        # check if space is there then simply add space\n",
    "        if ch == \" \":\n",
    "            ans += \" \"\n",
    "        # check if a character is uppercase then encrypt it accordingly\n",
    "        elif ch.isupper():\n",
    "            ans += chr((ord(ch) + n - 65) % 26 + 65)\n",
    "        # check if a character is lowercase then encrypt it accordingly\n",
    "        else:\n",
    "            ans += chr((ord(ch) + n - 97) % 26 + 97)\n",
    "\n",
    "    return ans\n",
    "\n",
    "plaintext = \"HELLO EVERYONE\"\n",
    "n = 1\n",
    "print(\"Plain Text Is : \" + plaintext)\n",
    "print(\"shift pattern is : \" + str(n))\n",
    "print(\"cipher Text Is : \" + encrypt_text(plaintext, n))\n"
   ]
  },
  {
   "cell_type": "code",
   "execution_count": null,
   "id": "f0f975fc-aa70-416d-9081-c51f17eb2bd2",
   "metadata": {},
   "outputs": [],
   "source": []
  }
 ],
 "metadata": {
  "kernelspec": {
   "display_name": "Python [conda env:base] *",
   "language": "python",
   "name": "conda-base-py"
  },
  "language_info": {
   "codemirror_mode": {
    "name": "ipython",
    "version": 3
   },
   "file_extension": ".py",
   "mimetype": "text/x-python",
   "name": "python",
   "nbconvert_exporter": "python",
   "pygments_lexer": "ipython3",
   "version": "3.12.7"
  }
 },
 "nbformat": 4,
 "nbformat_minor": 5
}
